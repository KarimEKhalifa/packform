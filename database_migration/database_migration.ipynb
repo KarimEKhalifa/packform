{
 "cells": [
  {
   "cell_type": "code",
   "execution_count": 11,
   "metadata": {},
   "outputs": [],
   "source": [
    "import os\n",
    "import glob\n",
    "import json\n",
    "import pymongo\n",
    "import psycopg2\n",
    "import pandas as pd\n",
    "from sqlalchemy import create_engine\n",
    "from sqlalchemy.pool import NullPool"
   ]
  },
  {
   "cell_type": "code",
   "execution_count": 12,
   "metadata": {},
   "outputs": [],
   "source": [
    "def CreateDB(db_name):\n",
    "    try:\n",
    "        postgres_con = psycopg2.connect(database=\"postgres\",user=\"karimkhalifa\")\n",
    "        postgres_con.autocommit = True\n",
    "        cursor = postgres_con.cursor()\n",
    "        res = cursor.execute(f'''CREATE database {db_name}''')\n",
    "        postgres_con.close()\n",
    "    except:\n",
    "        print(\"Postgres database exists\") \n",
    "    mongo_client = pymongo.MongoClient(\"mongodb://localhost:27017/\")\n",
    "    engine = create_engine(f\"postgres:///{db_name}\",poolclass=NullPool)\n",
    "    return (db_name,engine,mongo_client)"
   ]
  },
  {
   "cell_type": "code",
   "execution_count": 13,
   "metadata": {},
   "outputs": [],
   "source": [
    "def CreateTables(db_name,engine,mongo_client,files):\n",
    "    for f in files:\n",
    "        table_name = f.rsplit(\"-\",1)[1].replace(\".csv\",\"\").strip()\n",
    "        df = pd.read_csv(f)\n",
    "        if \"Mongo\" in f:\n",
    "            InsertMongo(db_name,mongo_client,df,table_name)\n",
    "        elif \"Postgres\" in f:\n",
    "            try:\n",
    "                df.to_sql(table_name, engine, index=False)\n",
    "            except:\n",
    "                print(f\"Table {table_name} already exists\")"
   ]
  },
  {
   "cell_type": "code",
   "execution_count": 14,
   "metadata": {},
   "outputs": [],
   "source": [
    "def InsertMongo(db_name,myclient,df,table_name):\n",
    "    mydb = myclient[db_name]\n",
    "    collection = mydb[table_name]\n",
    "    records = json.loads(df.T.to_json()).values()\n",
    "    for record in records:\n",
    "        existing_record = collection.find_one(record)\n",
    "        if not existing_record:\n",
    "            collection.insert_one(record)\n",
    "        else:\n",
    "            collection.replace_one(existing_record,record,upsert=True)"
   ]
  },
  {
   "cell_type": "code",
   "execution_count": 15,
   "metadata": {},
   "outputs": [
    {
     "name": "stdout",
     "output_type": "stream",
     "text": [
      "Finished successfully...\n"
     ]
    }
   ],
   "source": [
    "if __name__ == \"__main__\":\n",
    "    db_name = \"packform\"\n",
    "    try:\n",
    "        csvs = glob.glob(os.path.join(os.getcwd(),\"test_data/*.csv\"))\n",
    "        CreateTables(*CreateDB(db_name),csvs)\n",
    "        print(\"Finished successfully...\")\n",
    "    except:\n",
    "        print(\"An error has occured!\")"
   ]
  },
  {
   "cell_type": "code",
   "execution_count": null,
   "metadata": {},
   "outputs": [],
   "source": []
  }
 ],
 "metadata": {
  "kernelspec": {
   "display_name": "Python 3",
   "language": "python",
   "name": "python3"
  },
  "language_info": {
   "codemirror_mode": {
    "name": "ipython",
    "version": 3
   },
   "file_extension": ".py",
   "mimetype": "text/x-python",
   "name": "python",
   "nbconvert_exporter": "python",
   "pygments_lexer": "ipython3",
   "version": "3.7.7"
  }
 },
 "nbformat": 4,
 "nbformat_minor": 4
}
